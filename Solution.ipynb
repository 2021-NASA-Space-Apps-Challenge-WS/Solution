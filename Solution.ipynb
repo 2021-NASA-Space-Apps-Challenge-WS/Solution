{
 "cells": [
  {
   "cell_type": "markdown",
   "id": "e8d752de",
   "metadata": {},
   "source": [
    "### Installing required libraries"
   ]
  },
  {
   "cell_type": "code",
   "execution_count": null,
   "id": "eaf1f1cc",
   "metadata": {
    "scrolled": false
   },
   "outputs": [],
   "source": [
    "!pip install numpy-stl matplotlib ipywidgets vtkplotlib"
   ]
  },
  {
   "cell_type": "markdown",
   "id": "e16d4aa1",
   "metadata": {},
   "source": [
    "### Importing libraries"
   ]
  },
  {
   "cell_type": "code",
   "execution_count": 2,
   "id": "ab40aa1a",
   "metadata": {},
   "outputs": [],
   "source": [
    "import math\n",
    "from typing import List\n",
    "from stl.mesh import Mesh\n",
    "import functools\n",
    "from stl.mesh import Mesh\n",
    "import matplotlib.pyplot as plt\n",
    "from matplotlib.pyplot import figure\n",
    "import ipywidgets as widgets\n",
    "from IPython.display import clear_output\n",
    "from os import walk\n",
    "import numpy as np\n",
    "import vtkplotlib as vpl"
   ]
  },
  {
   "cell_type": "markdown",
   "id": "47d6955c",
   "metadata": {},
   "source": [
    "### Searching for models in directory"
   ]
  },
  {
   "cell_type": "code",
   "execution_count": 3,
   "id": "4ed9af47",
   "metadata": {},
   "outputs": [],
   "source": [
    "models = []\n",
    "for (dirpath, dirnames, filenames) in walk(\"models\"):\n",
    "    models.extend(filenames)\n",
    "    break"
   ]
  },
  {
   "cell_type": "markdown",
   "id": "f9047a9f",
   "metadata": {},
   "source": [
    "### Getting index of the axis left after selecting the spectator's plane"
   ]
  },
  {
   "cell_type": "code",
   "execution_count": 4,
   "id": "510da1db",
   "metadata": {},
   "outputs": [],
   "source": [
    "def get_spectator(mode: str) -> int:\n",
    "    m = mode.lower()\n",
    "    if m == \"zy\" or m == \"yz\":\n",
    "        return 0\n",
    "    elif m == \"xz\" or m == \"zx\":\n",
    "        return 1\n",
    "    elif m == \"xy\" or m == \"yx\":\n",
    "        return 2"
   ]
  },
  {
   "cell_type": "markdown",
   "id": "72136414",
   "metadata": {},
   "source": [
    "### Sorting normals, selecting only needed, mapping them to the size of the area they are attached to"
   ]
  },
  {
   "cell_type": "code",
   "execution_count": 5,
   "id": "f34c3d4b",
   "metadata": {},
   "outputs": [],
   "source": [
    "def sort_normals(normals: List[list], areas: List[list], mode: str) -> List[tuple]:\n",
    "    result = []\n",
    "    scalar_index = get_spectator(mode)\n",
    "    for i in range(len(normals)):\n",
    "        if normals[i][scalar_index] < 0:\n",
    "            result.append((normals[i][scalar_index], areas[i][0]))\n",
    "\n",
    "    return result"
   ]
  },
  {
   "cell_type": "markdown",
   "id": "deaa5eae",
   "metadata": {},
   "source": [
    "### Processing selected normals, so they will form an array of amount of light reflecting from each polygon"
   ]
  },
  {
   "cell_type": "code",
   "execution_count": 6,
   "id": "f95cef0c",
   "metadata": {},
   "outputs": [],
   "source": [
    "def start_processing(income: Mesh, mode: str, rotate_params: list, steps: int, multiplicator: float) -> list:\n",
    "    result = []\n",
    "    for x in range(steps):\n",
    "        income.rotate(rotate_params, math.radians(multiplicator))\n",
    "        result.append(functools.reduce(lambda z, y: z + y, list(map(lambda t: t[0] * t[0] * t[1], sort_normals(income.get_unit_normals(), income.areas, mode)))))\n",
    "\n",
    "    return result"
   ]
  },
  {
   "cell_type": "markdown",
   "id": "26694fde",
   "metadata": {},
   "source": [
    "### Normalizing values"
   ]
  },
  {
   "cell_type": "code",
   "execution_count": 7,
   "id": "79238362",
   "metadata": {},
   "outputs": [],
   "source": [
    "def normalize(income: list) -> list:\n",
    "    m = max(income)\n",
    "    return list(map(lambda x: x / m, income))"
   ]
  },
  {
   "cell_type": "markdown",
   "id": "3f6aaa69",
   "metadata": {},
   "source": [
    "### Setting Jupyter widgets up"
   ]
  },
  {
   "cell_type": "code",
   "execution_count": 8,
   "id": "c8ee3910",
   "metadata": {
    "scrolled": false
   },
   "outputs": [],
   "source": [
    "wx = widgets.FloatSlider(\n",
    "    value=-1,\n",
    "    min=-1,\n",
    "    max=1,\n",
    "    step=0.1,\n",
    "    description='x:',\n",
    "    disabled=False,\n",
    "    continuous_update=False,\n",
    "    orientation='horizontal',\n",
    "    readout=True,\n",
    "    readout_format='.1f'\n",
    ")\n",
    "\n",
    "wy = widgets.FloatSlider(\n",
    "    value=-1,\n",
    "    min=-1,\n",
    "    max=1,\n",
    "    step=0.1,\n",
    "    description='y:',\n",
    "    disabled=False,\n",
    "    continuous_update=False,\n",
    "    orientation='horizontal',\n",
    "    readout=True,\n",
    "    readout_format='.1f'\n",
    ")\n",
    "\n",
    "wz = widgets.FloatSlider(\n",
    "    value=0.5,\n",
    "    min=-1,\n",
    "    max=1,\n",
    "    step=0.1,\n",
    "    description='z:',\n",
    "    disabled=False,\n",
    "    continuous_update=False,\n",
    "    orientation='horizontal',\n",
    "    readout=True,\n",
    "    readout_format='.1f'\n",
    ")\n",
    "\n",
    "w_xy = widgets.Dropdown(\n",
    "    options=['xy', 'xz', 'yz'],\n",
    "    value='xy',\n",
    "    description='Plane:',\n",
    "    disabled=False,\n",
    ")\n",
    "\n",
    "w_files = widgets.Dropdown(\n",
    "    options=models,\n",
    "    value=models[0],\n",
    "    description='Model:',\n",
    "    disabled=False,\n",
    ")\n",
    "\n",
    "button = widgets.Button(description=\"Show picture\")\n",
    "\n",
    "output = widgets.Output()\n",
    "\n",
    "def on_button_clicked(b):\n",
    "    with output:\n",
    "        clear_output(True)\n",
    "        x = wx.value\n",
    "        y = wy.value\n",
    "        z = wz.value\n",
    "        model = w_files.value\n",
    "        xyz = w_xy.value\n",
    "        process(\"models/\" + model, [x, y, z], xyz)"
   ]
  },
  {
   "cell_type": "markdown",
   "id": "c13d481d",
   "metadata": {},
   "source": [
    "### Running main processing function"
   ]
  },
  {
   "cell_type": "code",
   "execution_count": 9,
   "id": "5b7046e5",
   "metadata": {},
   "outputs": [],
   "source": [
    "def process(filename: str, rotate: list, mode: str):\n",
    "    mesh = Mesh.from_file(filename)\n",
    "    period = 360\n",
    "    step = 1\n",
    "    steps = period/step\n",
    "    figure(figsize=(10, 5), dpi=80)\n",
    "    nd = normalize(start_processing(mesh, mode, rotate, int(steps), step))\n",
    "    nd.append(nd[0])\n",
    "    plt.plot(range(int(steps+1)), nd, color=\"red\")\n",
    "    plt.yscale('linear')\n",
    "    plt.xlabel(str(filename[7:len(filename)-4]))\n",
    "    plt.xticks(range(0, 361, 60))\n",
    "    plt.show()"
   ]
  },
  {
   "cell_type": "markdown",
   "id": "b719c8ae",
   "metadata": {},
   "source": [
    "### Displaying results after invoking all needed functions"
   ]
  },
  {
   "cell_type": "code",
   "execution_count": 10,
   "id": "b1a0ddc8",
   "metadata": {
    "scrolled": false
   },
   "outputs": [
    {
     "data": {
      "application/vnd.jupyter.widget-view+json": {
       "model_id": "3b4646c7f4d944e7ac2addc2aee3b6be",
       "version_major": 2,
       "version_minor": 0
      },
      "text/plain": [
       "FloatSlider(value=-1.0, continuous_update=False, description='x:', max=1.0, min=-1.0, readout_format='.1f')"
      ]
     },
     "metadata": {},
     "output_type": "display_data"
    },
    {
     "data": {
      "application/vnd.jupyter.widget-view+json": {
       "model_id": "87d8e376531442eaadc26534b1cec92f",
       "version_major": 2,
       "version_minor": 0
      },
      "text/plain": [
       "FloatSlider(value=-1.0, continuous_update=False, description='y:', max=1.0, min=-1.0, readout_format='.1f')"
      ]
     },
     "metadata": {},
     "output_type": "display_data"
    },
    {
     "data": {
      "application/vnd.jupyter.widget-view+json": {
       "model_id": "6af7500b43f74fbaac02d829a1fc90f4",
       "version_major": 2,
       "version_minor": 0
      },
      "text/plain": [
       "FloatSlider(value=0.5, continuous_update=False, description='z:', max=1.0, min=-1.0, readout_format='.1f')"
      ]
     },
     "metadata": {},
     "output_type": "display_data"
    },
    {
     "data": {
      "application/vnd.jupyter.widget-view+json": {
       "model_id": "524c9aa17b7f4a6a97891bcb5302f9ae",
       "version_major": 2,
       "version_minor": 0
      },
      "text/plain": [
       "Dropdown(description='Plane:', options=('xy', 'xz', 'yz'), value='xy')"
      ]
     },
     "metadata": {},
     "output_type": "display_data"
    },
    {
     "data": {
      "application/vnd.jupyter.widget-view+json": {
       "model_id": "0510327201a14a1098f678e791db85ad",
       "version_major": 2,
       "version_minor": 0
      },
      "text/plain": [
       "Dropdown(description='Model:', options=('golevka.stl', 'hw1.stl', 'kleopatra.stl', 'mithra.stl', 'sphere.stl',…"
      ]
     },
     "metadata": {},
     "output_type": "display_data"
    },
    {
     "data": {
      "application/vnd.jupyter.widget-view+json": {
       "model_id": "b535b23e10a24865ac4391c517bc5c2c",
       "version_major": 2,
       "version_minor": 0
      },
      "text/plain": [
       "Button(description='Show picture', style=ButtonStyle())"
      ]
     },
     "metadata": {},
     "output_type": "display_data"
    },
    {
     "data": {
      "application/vnd.jupyter.widget-view+json": {
       "model_id": "ed15e9863a4044518e5c7cb856fffe65",
       "version_major": 2,
       "version_minor": 0
      },
      "text/plain": [
       "Output()"
      ]
     },
     "metadata": {},
     "output_type": "display_data"
    }
   ],
   "source": [
    "display(wx, wy, wz, w_xy, w_files, button)\n",
    "button.on_click(on_button_clicked)\n",
    "\n",
    "with output:\n",
    "    process(\"models/\" + models[0], [-1, -1, 0.5], \"xy\")\n",
    "\n",
    "output"
   ]
  }
 ],
 "metadata": {
  "kernelspec": {
   "display_name": "Python 3 (ipykernel)",
   "language": "python",
   "name": "python3"
  },
  "language_info": {
   "codemirror_mode": {
    "name": "ipython",
    "version": 3
   },
   "file_extension": ".py",
   "mimetype": "text/x-python",
   "name": "python",
   "nbconvert_exporter": "python",
   "pygments_lexer": "ipython3",
   "version": "3.8.11"
  },
  "widgets": {
   "application/vnd.jupyter.widget-state+json": {
    "state": {
     "0510327201a14a1098f678e791db85ad": {
      "model_module": "@jupyter-widgets/controls",
      "model_module_version": "1.5.0",
      "model_name": "DropdownModel",
      "state": {
       "_options_labels": [
        "golevka.stl",
        "hw1.stl",
        "kleopatra.stl",
        "mithra.stl",
        "sphere.stl",
        "teapot.stl",
        "toutatis.stl"
       ],
       "description": "Model:",
       "index": 0,
       "layout": "IPY_MODEL_366b846e40a94a20b2ed8a6089149837",
       "style": "IPY_MODEL_dda8eaed47b84598ad57d3fbd2d69c5b"
      }
     },
     "183500a807f941c2be52be944f37d641": {
      "model_module": "@jupyter-widgets/base",
      "model_module_version": "1.2.0",
      "model_name": "LayoutModel",
      "state": {}
     },
     "1a3468b955c24576a69777e1013e4439": {
      "model_module": "@jupyter-widgets/base",
      "model_module_version": "1.2.0",
      "model_name": "LayoutModel",
      "state": {}
     },
     "1b509e4a2bbc4e13b18e37f7b8efa59e": {
      "model_module": "@jupyter-widgets/controls",
      "model_module_version": "1.5.0",
      "model_name": "SliderStyleModel",
      "state": {
       "description_width": ""
      }
     },
     "1e305838df9b427bbeff0141e6870c91": {
      "model_module": "@jupyter-widgets/controls",
      "model_module_version": "1.5.0",
      "model_name": "FloatSliderModel",
      "state": {
       "continuous_update": false,
       "description": "z:",
       "layout": "IPY_MODEL_df7b8a7ad2454d5187d4228b8d92d915",
       "max": 1,
       "min": -1,
       "readout_format": ".1f",
       "step": 0.1,
       "style": "IPY_MODEL_371ef682e6a0410f9d64e616f3f43492"
      }
     },
     "2cd9dc95e7f743f78cee0b6268663d21": {
      "model_module": "@jupyter-widgets/controls",
      "model_module_version": "1.5.0",
      "model_name": "SliderStyleModel",
      "state": {
       "description_width": ""
      }
     },
     "2cfe3eecfcbd4ab1b59e6f88dde9ff6e": {
      "model_module": "@jupyter-widgets/controls",
      "model_module_version": "1.5.0",
      "model_name": "FloatSliderModel",
      "state": {
       "continuous_update": false,
       "description": "x:",
       "layout": "IPY_MODEL_1a3468b955c24576a69777e1013e4439",
       "max": 1,
       "min": -1,
       "readout_format": ".1f",
       "step": 0.1,
       "style": "IPY_MODEL_2cd9dc95e7f743f78cee0b6268663d21",
       "value": -0.2
      }
     },
     "366b846e40a94a20b2ed8a6089149837": {
      "model_module": "@jupyter-widgets/base",
      "model_module_version": "1.2.0",
      "model_name": "LayoutModel",
      "state": {}
     },
     "371ef682e6a0410f9d64e616f3f43492": {
      "model_module": "@jupyter-widgets/controls",
      "model_module_version": "1.5.0",
      "model_name": "SliderStyleModel",
      "state": {
       "description_width": ""
      }
     },
     "3b4646c7f4d944e7ac2addc2aee3b6be": {
      "model_module": "@jupyter-widgets/controls",
      "model_module_version": "1.5.0",
      "model_name": "FloatSliderModel",
      "state": {
       "continuous_update": false,
       "description": "x:",
       "layout": "IPY_MODEL_bda2caa5e1ad4b339a5da1868620843e",
       "max": 1,
       "min": -1,
       "readout_format": ".1f",
       "step": 0.1,
       "style": "IPY_MODEL_ce17eddfe8ba4cdf981c4cd4db97dd00",
       "value": -1
      }
     },
     "4091004fab90460e99cce8b27c5fdabb": {
      "model_module": "@jupyter-widgets/base",
      "model_module_version": "1.2.0",
      "model_name": "LayoutModel",
      "state": {}
     },
     "4fc98385c96c465dbb7540192815a458": {
      "model_module": "@jupyter-widgets/controls",
      "model_module_version": "1.5.0",
      "model_name": "DescriptionStyleModel",
      "state": {
       "description_width": ""
      }
     },
     "524c9aa17b7f4a6a97891bcb5302f9ae": {
      "model_module": "@jupyter-widgets/controls",
      "model_module_version": "1.5.0",
      "model_name": "DropdownModel",
      "state": {
       "_options_labels": [
        "xy",
        "xz",
        "yz"
       ],
       "description": "Plane:",
       "index": 0,
       "layout": "IPY_MODEL_4091004fab90460e99cce8b27c5fdabb",
       "style": "IPY_MODEL_79d16ea68a224238876e475ed662abc0"
      }
     },
     "527cbadc99af44808815e789826fed0a": {
      "model_module": "@jupyter-widgets/controls",
      "model_module_version": "1.5.0",
      "model_name": "DescriptionStyleModel",
      "state": {
       "description_width": ""
      }
     },
     "5999327a504c404687c5995016e615d1": {
      "model_module": "@jupyter-widgets/controls",
      "model_module_version": "1.5.0",
      "model_name": "DropdownModel",
      "state": {
       "_options_labels": [
        "golevka.stl",
        "hw1.stl",
        "kleopatra.stl",
        "mithra.stl",
        "sphere.stl",
        "teapot.stl",
        "toutatis.stl"
       ],
       "description": "Model:",
       "index": 0,
       "layout": "IPY_MODEL_93c8e78809b6430fa7b6d55a321a2cd4",
       "style": "IPY_MODEL_4fc98385c96c465dbb7540192815a458"
      }
     },
     "600341aa59364100aa88c6fd25d14ee6": {
      "model_module": "@jupyter-widgets/base",
      "model_module_version": "1.2.0",
      "model_name": "LayoutModel",
      "state": {}
     },
     "6af7500b43f74fbaac02d829a1fc90f4": {
      "model_module": "@jupyter-widgets/controls",
      "model_module_version": "1.5.0",
      "model_name": "FloatSliderModel",
      "state": {
       "continuous_update": false,
       "description": "z:",
       "layout": "IPY_MODEL_8489df233a9140ef8bedd8d7d1c94c3b",
       "max": 1,
       "min": -1,
       "readout_format": ".1f",
       "step": 0.1,
       "style": "IPY_MODEL_1b509e4a2bbc4e13b18e37f7b8efa59e",
       "value": 0.5
      }
     },
     "71417171612b4d7aaf8cc6c29196e7b0": {
      "model_module": "@jupyter-widgets/controls",
      "model_module_version": "1.5.0",
      "model_name": "SliderStyleModel",
      "state": {
       "description_width": ""
      }
     },
     "79d16ea68a224238876e475ed662abc0": {
      "model_module": "@jupyter-widgets/controls",
      "model_module_version": "1.5.0",
      "model_name": "DescriptionStyleModel",
      "state": {
       "description_width": ""
      }
     },
     "7d1b2531123f42609eb8467322350c00": {
      "model_module": "@jupyter-widgets/base",
      "model_module_version": "1.2.0",
      "model_name": "LayoutModel",
      "state": {}
     },
     "84099ef53b124f09b23842c2949d2949": {
      "model_module": "@jupyter-widgets/base",
      "model_module_version": "1.2.0",
      "model_name": "LayoutModel",
      "state": {}
     },
     "8489df233a9140ef8bedd8d7d1c94c3b": {
      "model_module": "@jupyter-widgets/base",
      "model_module_version": "1.2.0",
      "model_name": "LayoutModel",
      "state": {}
     },
     "87d8e376531442eaadc26534b1cec92f": {
      "model_module": "@jupyter-widgets/controls",
      "model_module_version": "1.5.0",
      "model_name": "FloatSliderModel",
      "state": {
       "continuous_update": false,
       "description": "y:",
       "layout": "IPY_MODEL_91462167b5c4400d9a795c7db29c6c59",
       "max": 1,
       "min": -1,
       "readout_format": ".1f",
       "step": 0.1,
       "style": "IPY_MODEL_f47a1d81cf184564b3bff29e29b1a40b",
       "value": -1
      }
     },
     "8bd76b488be94f8db1f3655ff72dbcb0": {
      "model_module": "@jupyter-widgets/output",
      "model_module_version": "1.0.0",
      "model_name": "OutputModel",
      "state": {
       "layout": "IPY_MODEL_183500a807f941c2be52be944f37d641",
       "outputs": [
        {
         "data": {
          "image/png": "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\n",
          "text/plain": "<Figure size 800x400 with 1 Axes>"
         },
         "metadata": {
          "needs_background": "light"
         },
         "output_type": "display_data"
        }
       ]
      }
     },
     "8f419677b80f411a9370d6654e7f610e": {
      "model_module": "@jupyter-widgets/controls",
      "model_module_version": "1.5.0",
      "model_name": "DropdownModel",
      "state": {
       "_options_labels": [
        "xy",
        "xz",
        "yz"
       ],
       "description": "Plane:",
       "index": 0,
       "layout": "IPY_MODEL_600341aa59364100aa88c6fd25d14ee6",
       "style": "IPY_MODEL_527cbadc99af44808815e789826fed0a"
      }
     },
     "91462167b5c4400d9a795c7db29c6c59": {
      "model_module": "@jupyter-widgets/base",
      "model_module_version": "1.2.0",
      "model_name": "LayoutModel",
      "state": {}
     },
     "93c8e78809b6430fa7b6d55a321a2cd4": {
      "model_module": "@jupyter-widgets/base",
      "model_module_version": "1.2.0",
      "model_name": "LayoutModel",
      "state": {}
     },
     "a387030577d0401a97bea0eec8b81a3d": {
      "model_module": "@jupyter-widgets/controls",
      "model_module_version": "1.5.0",
      "model_name": "ButtonModel",
      "state": {
       "description": "Show picture",
       "layout": "IPY_MODEL_be99f69d78f94e8f82113119a65439ef",
       "style": "IPY_MODEL_e72714700eff49c2843ea5e1b847ae81"
      }
     },
     "a95b9c079cbc4ec3a69e9165a10df0a4": {
      "model_module": "@jupyter-widgets/base",
      "model_module_version": "1.2.0",
      "model_name": "LayoutModel",
      "state": {}
     },
     "b15f0234e94c48a89ec5dc1a27558298": {
      "model_module": "@jupyter-widgets/controls",
      "model_module_version": "1.5.0",
      "model_name": "ButtonStyleModel",
      "state": {}
     },
     "b535b23e10a24865ac4391c517bc5c2c": {
      "model_module": "@jupyter-widgets/controls",
      "model_module_version": "1.5.0",
      "model_name": "ButtonModel",
      "state": {
       "description": "Show picture",
       "layout": "IPY_MODEL_84099ef53b124f09b23842c2949d2949",
       "style": "IPY_MODEL_b15f0234e94c48a89ec5dc1a27558298"
      }
     },
     "bda2caa5e1ad4b339a5da1868620843e": {
      "model_module": "@jupyter-widgets/base",
      "model_module_version": "1.2.0",
      "model_name": "LayoutModel",
      "state": {}
     },
     "be99f69d78f94e8f82113119a65439ef": {
      "model_module": "@jupyter-widgets/base",
      "model_module_version": "1.2.0",
      "model_name": "LayoutModel",
      "state": {}
     },
     "c0898f7b081d4afeb14fd8b3b68c5640": {
      "model_module": "@jupyter-widgets/controls",
      "model_module_version": "1.5.0",
      "model_name": "FloatSliderModel",
      "state": {
       "continuous_update": false,
       "description": "y:",
       "layout": "IPY_MODEL_7d1b2531123f42609eb8467322350c00",
       "max": 1,
       "min": -1,
       "readout_format": ".1f",
       "step": 0.1,
       "style": "IPY_MODEL_71417171612b4d7aaf8cc6c29196e7b0",
       "value": -0.5
      }
     },
     "ce17eddfe8ba4cdf981c4cd4db97dd00": {
      "model_module": "@jupyter-widgets/controls",
      "model_module_version": "1.5.0",
      "model_name": "SliderStyleModel",
      "state": {
       "description_width": ""
      }
     },
     "dda8eaed47b84598ad57d3fbd2d69c5b": {
      "model_module": "@jupyter-widgets/controls",
      "model_module_version": "1.5.0",
      "model_name": "DescriptionStyleModel",
      "state": {
       "description_width": ""
      }
     },
     "df7b8a7ad2454d5187d4228b8d92d915": {
      "model_module": "@jupyter-widgets/base",
      "model_module_version": "1.2.0",
      "model_name": "LayoutModel",
      "state": {}
     },
     "e72714700eff49c2843ea5e1b847ae81": {
      "model_module": "@jupyter-widgets/controls",
      "model_module_version": "1.5.0",
      "model_name": "ButtonStyleModel",
      "state": {}
     },
     "ed15e9863a4044518e5c7cb856fffe65": {
      "model_module": "@jupyter-widgets/output",
      "model_module_version": "1.0.0",
      "model_name": "OutputModel",
      "state": {
       "layout": "IPY_MODEL_a95b9c079cbc4ec3a69e9165a10df0a4",
       "outputs": [
        {
         "data": {
          "image/png": "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\n",
          "text/plain": "<Figure size 800x400 with 1 Axes>"
         },
         "metadata": {
          "needs_background": "light"
         },
         "output_type": "display_data"
        }
       ]
      }
     },
     "f47a1d81cf184564b3bff29e29b1a40b": {
      "model_module": "@jupyter-widgets/controls",
      "model_module_version": "1.5.0",
      "model_name": "SliderStyleModel",
      "state": {
       "description_width": ""
      }
     }
    },
    "version_major": 2,
    "version_minor": 0
   }
  }
 },
 "nbformat": 4,
 "nbformat_minor": 5
}
