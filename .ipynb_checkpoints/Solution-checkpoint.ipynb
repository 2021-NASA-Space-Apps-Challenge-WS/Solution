{
 "cells": [
  {
   "cell_type": "markdown",
   "id": "e8d752de",
   "metadata": {},
   "source": [
    "## Installing requirements "
   ]
  },
  {
   "cell_type": "code",
   "execution_count": 27,
   "id": "eaf1f1cc",
   "metadata": {
    "scrolled": true
   },
   "outputs": [
    {
     "name": "stdout",
     "output_type": "stream",
     "text": [
      "Requirement already satisfied: numpy-stl in c:\\users\\borys\\anaconda3\\envs\\spacechallange2021\\lib\\site-packages (2.16.3)\n",
      "Requirement already satisfied: matplotlib in c:\\users\\borys\\anaconda3\\envs\\spacechallange2021\\lib\\site-packages (3.4.3)\n",
      "Requirement already satisfied: ipywidgets in c:\\users\\borys\\anaconda3\\envs\\spacechallange2021\\lib\\site-packages (7.6.4)\n",
      "Requirement already satisfied: vtkplotlib in c:\\users\\borys\\anaconda3\\envs\\spacechallange2021\\lib\\site-packages (1.4.1)\n",
      "Requirement already satisfied: nbformat>=4.2.0 in c:\\users\\borys\\anaconda3\\envs\\spacechallange2021\\lib\\site-packages (from ipywidgets) (5.1.3)\n",
      "Requirement already satisfied: ipykernel>=4.5.1 in c:\\users\\borys\\anaconda3\\envs\\spacechallange2021\\lib\\site-packages (from ipywidgets) (6.2.0)\n",
      "Requirement already satisfied: jupyterlab-widgets>=1.0.0 in c:\\users\\borys\\anaconda3\\envs\\spacechallange2021\\lib\\site-packages (from ipywidgets) (1.0.0)\n",
      "Requirement already satisfied: ipython>=4.0.0 in c:\\users\\borys\\anaconda3\\envs\\spacechallange2021\\lib\\site-packages (from ipywidgets) (7.27.0)\n",
      "Requirement already satisfied: ipython-genutils~=0.2.0 in c:\\users\\borys\\anaconda3\\envs\\spacechallange2021\\lib\\site-packages (from ipywidgets) (0.2.0)\n",
      "Requirement already satisfied: traitlets>=4.3.1 in c:\\users\\borys\\anaconda3\\envs\\spacechallange2021\\lib\\site-packages (from ipywidgets) (5.1.0)\n",
      "Requirement already satisfied: widgetsnbextension~=3.5.0 in c:\\users\\borys\\anaconda3\\envs\\spacechallange2021\\lib\\site-packages (from ipywidgets) (3.5.1)\n",
      "Requirement already satisfied: jupyter-client<8.0 in c:\\users\\borys\\anaconda3\\envs\\spacechallange2021\\lib\\site-packages (from ipykernel>=4.5.1->ipywidgets) (7.0.1)\n",
      "Requirement already satisfied: debugpy<2.0,>=1.0.0 in c:\\users\\borys\\anaconda3\\envs\\spacechallange2021\\lib\\site-packages (from ipykernel>=4.5.1->ipywidgets) (1.4.1)\n",
      "Requirement already satisfied: matplotlib-inline<0.2.0,>=0.1.0 in c:\\users\\borys\\anaconda3\\envs\\spacechallange2021\\lib\\site-packages (from ipykernel>=4.5.1->ipywidgets) (0.1.2)\n",
      "Requirement already satisfied: tornado<7.0,>=4.2 in c:\\users\\borys\\anaconda3\\envs\\spacechallange2021\\lib\\site-packages (from ipykernel>=4.5.1->ipywidgets) (6.1)\n",
      "Requirement already satisfied: decorator in c:\\users\\borys\\anaconda3\\envs\\spacechallange2021\\lib\\site-packages (from ipython>=4.0.0->ipywidgets) (5.1.0)\n",
      "Requirement already satisfied: prompt-toolkit!=3.0.0,!=3.0.1,<3.1.0,>=2.0.0 in c:\\users\\borys\\anaconda3\\envs\\spacechallange2021\\lib\\site-packages (from ipython>=4.0.0->ipywidgets) (3.0.17)\n",
      "Requirement already satisfied: backcall in c:\\users\\borys\\anaconda3\\envs\\spacechallange2021\\lib\\site-packages (from ipython>=4.0.0->ipywidgets) (0.2.0)\n",
      "Requirement already satisfied: setuptools>=18.5 in c:\\users\\borys\\anaconda3\\envs\\spacechallange2021\\lib\\site-packages (from ipython>=4.0.0->ipywidgets) (58.0.4)\n",
      "Requirement already satisfied: pickleshare in c:\\users\\borys\\anaconda3\\envs\\spacechallange2021\\lib\\site-packages (from ipython>=4.0.0->ipywidgets) (0.7.5)\n",
      "Requirement already satisfied: pygments in c:\\users\\borys\\anaconda3\\envs\\spacechallange2021\\lib\\site-packages (from ipython>=4.0.0->ipywidgets) (2.10.0)\n",
      "Requirement already satisfied: colorama in c:\\users\\borys\\anaconda3\\envs\\spacechallange2021\\lib\\site-packages (from ipython>=4.0.0->ipywidgets) (0.4.4)\n",
      "Requirement already satisfied: jedi>=0.16 in c:\\users\\borys\\anaconda3\\envs\\spacechallange2021\\lib\\site-packages (from ipython>=4.0.0->ipywidgets) (0.18.0)\n",
      "Requirement already satisfied: parso<0.9.0,>=0.8.0 in c:\\users\\borys\\anaconda3\\envs\\spacechallange2021\\lib\\site-packages (from jedi>=0.16->ipython>=4.0.0->ipywidgets) (0.8.2)\n",
      "Requirement already satisfied: jupyter-core>=4.6.0 in c:\\users\\borys\\anaconda3\\envs\\spacechallange2021\\lib\\site-packages (from jupyter-client<8.0->ipykernel>=4.5.1->ipywidgets) (4.7.1)\n",
      "Requirement already satisfied: entrypoints in c:\\users\\borys\\anaconda3\\envs\\spacechallange2021\\lib\\site-packages (from jupyter-client<8.0->ipykernel>=4.5.1->ipywidgets) (0.3)\n",
      "Requirement already satisfied: pyzmq>=13 in c:\\users\\borys\\anaconda3\\envs\\spacechallange2021\\lib\\site-packages (from jupyter-client<8.0->ipykernel>=4.5.1->ipywidgets) (22.2.1)\n",
      "Requirement already satisfied: nest-asyncio>=1.5 in c:\\users\\borys\\anaconda3\\envs\\spacechallange2021\\lib\\site-packages (from jupyter-client<8.0->ipykernel>=4.5.1->ipywidgets) (1.5.1)\n",
      "Requirement already satisfied: python-dateutil>=2.1 in c:\\users\\borys\\anaconda3\\envs\\spacechallange2021\\lib\\site-packages (from jupyter-client<8.0->ipykernel>=4.5.1->ipywidgets) (2.8.2)\n",
      "Requirement already satisfied: pywin32>=1.0 in c:\\users\\borys\\anaconda3\\envs\\spacechallange2021\\lib\\site-packages (from jupyter-core>=4.6.0->jupyter-client<8.0->ipykernel>=4.5.1->ipywidgets) (228)\n",
      "Requirement already satisfied: jsonschema!=2.5.0,>=2.4 in c:\\users\\borys\\anaconda3\\envs\\spacechallange2021\\lib\\site-packages (from nbformat>=4.2.0->ipywidgets) (3.2.0)\n",
      "Requirement already satisfied: six>=1.11.0 in c:\\users\\borys\\anaconda3\\envs\\spacechallange2021\\lib\\site-packages (from jsonschema!=2.5.0,>=2.4->nbformat>=4.2.0->ipywidgets) (1.16.0)\n",
      "Requirement already satisfied: pyrsistent>=0.14.0 in c:\\users\\borys\\anaconda3\\envs\\spacechallange2021\\lib\\site-packages (from jsonschema!=2.5.0,>=2.4->nbformat>=4.2.0->ipywidgets) (0.17.3)\n",
      "Requirement already satisfied: attrs>=17.4.0 in c:\\users\\borys\\anaconda3\\envs\\spacechallange2021\\lib\\site-packages (from jsonschema!=2.5.0,>=2.4->nbformat>=4.2.0->ipywidgets) (21.2.0)\n",
      "Requirement already satisfied: wcwidth in c:\\users\\borys\\anaconda3\\envs\\spacechallange2021\\lib\\site-packages (from prompt-toolkit!=3.0.0,!=3.0.1,<3.1.0,>=2.0.0->ipython>=4.0.0->ipywidgets) (0.2.5)\n",
      "Requirement already satisfied: notebook>=4.4.1 in c:\\users\\borys\\anaconda3\\envs\\spacechallange2021\\lib\\site-packages (from widgetsnbextension~=3.5.0->ipywidgets) (6.4.3)\n",
      "Requirement already satisfied: prometheus-client in c:\\users\\borys\\anaconda3\\envs\\spacechallange2021\\lib\\site-packages (from notebook>=4.4.1->widgetsnbextension~=3.5.0->ipywidgets) (0.11.0)\n",
      "Requirement already satisfied: terminado>=0.8.3 in c:\\users\\borys\\anaconda3\\envs\\spacechallange2021\\lib\\site-packages (from notebook>=4.4.1->widgetsnbextension~=3.5.0->ipywidgets) (0.9.4)\n",
      "Requirement already satisfied: jinja2 in c:\\users\\borys\\anaconda3\\envs\\spacechallange2021\\lib\\site-packages (from notebook>=4.4.1->widgetsnbextension~=3.5.0->ipywidgets) (3.0.1)\n",
      "Requirement already satisfied: argon2-cffi in c:\\users\\borys\\anaconda3\\envs\\spacechallange2021\\lib\\site-packages (from notebook>=4.4.1->widgetsnbextension~=3.5.0->ipywidgets) (20.1.0)\n",
      "Requirement already satisfied: Send2Trash>=1.5.0 in c:\\users\\borys\\anaconda3\\envs\\spacechallange2021\\lib\\site-packages (from notebook>=4.4.1->widgetsnbextension~=3.5.0->ipywidgets) (1.8.0)\n",
      "Requirement already satisfied: nbconvert in c:\\users\\borys\\anaconda3\\envs\\spacechallange2021\\lib\\site-packages (from notebook>=4.4.1->widgetsnbextension~=3.5.0->ipywidgets) (6.1.0)\n",
      "Requirement already satisfied: pywinpty>=0.5 in c:\\users\\borys\\anaconda3\\envs\\spacechallange2021\\lib\\site-packages (from terminado>=0.8.3->notebook>=4.4.1->widgetsnbextension~=3.5.0->ipywidgets) (0.5.7)\n",
      "Requirement already satisfied: pyparsing>=2.2.1 in c:\\users\\borys\\anaconda3\\envs\\spacechallange2021\\lib\\site-packages (from matplotlib) (2.4.7)\n",
      "Requirement already satisfied: cycler>=0.10 in c:\\users\\borys\\anaconda3\\envs\\spacechallange2021\\lib\\site-packages (from matplotlib) (0.10.0)\n",
      "Requirement already satisfied: numpy>=1.16 in c:\\users\\borys\\anaconda3\\envs\\spacechallange2021\\lib\\site-packages (from matplotlib) (1.21.2)\n",
      "Requirement already satisfied: kiwisolver>=1.0.1 in c:\\users\\borys\\anaconda3\\envs\\spacechallange2021\\lib\\site-packages (from matplotlib) (1.3.2)\n",
      "Requirement already satisfied: pillow>=6.2.0 in c:\\users\\borys\\anaconda3\\envs\\spacechallange2021\\lib\\site-packages (from matplotlib) (8.3.2)\n",
      "Requirement already satisfied: python-utils>=1.6.2 in c:\\users\\borys\\anaconda3\\envs\\spacechallange2021\\lib\\site-packages (from numpy-stl) (2.5.6)\n",
      "Requirement already satisfied: pathlib2 in c:\\users\\borys\\anaconda3\\envs\\spacechallange2021\\lib\\site-packages (from vtkplotlib) (2.3.6)\n",
      "Requirement already satisfied: vtk in c:\\users\\borys\\anaconda3\\envs\\spacechallange2021\\lib\\site-packages (from vtkplotlib) (9.0.3)\n",
      "Requirement already satisfied: future in c:\\users\\borys\\anaconda3\\envs\\spacechallange2021\\lib\\site-packages (from vtkplotlib) (0.18.2)\n",
      "Requirement already satisfied: cffi>=1.0.0 in c:\\users\\borys\\anaconda3\\envs\\spacechallange2021\\lib\\site-packages (from argon2-cffi->notebook>=4.4.1->widgetsnbextension~=3.5.0->ipywidgets) (1.14.6)\n",
      "Requirement already satisfied: pycparser in c:\\users\\borys\\anaconda3\\envs\\spacechallange2021\\lib\\site-packages (from cffi>=1.0.0->argon2-cffi->notebook>=4.4.1->widgetsnbextension~=3.5.0->ipywidgets) (2.20)\n",
      "Requirement already satisfied: MarkupSafe>=2.0 in c:\\users\\borys\\anaconda3\\envs\\spacechallange2021\\lib\\site-packages (from jinja2->notebook>=4.4.1->widgetsnbextension~=3.5.0->ipywidgets) (2.0.1)\n",
      "Requirement already satisfied: bleach in c:\\users\\borys\\anaconda3\\envs\\spacechallange2021\\lib\\site-packages (from nbconvert->notebook>=4.4.1->widgetsnbextension~=3.5.0->ipywidgets) (4.0.0)\n",
      "Requirement already satisfied: pandocfilters>=1.4.1 in c:\\users\\borys\\anaconda3\\envs\\spacechallange2021\\lib\\site-packages (from nbconvert->notebook>=4.4.1->widgetsnbextension~=3.5.0->ipywidgets) (1.4.3)\n",
      "Requirement already satisfied: mistune<2,>=0.8.1 in c:\\users\\borys\\anaconda3\\envs\\spacechallange2021\\lib\\site-packages (from nbconvert->notebook>=4.4.1->widgetsnbextension~=3.5.0->ipywidgets) (0.8.4)\n",
      "Requirement already satisfied: defusedxml in c:\\users\\borys\\anaconda3\\envs\\spacechallange2021\\lib\\site-packages (from nbconvert->notebook>=4.4.1->widgetsnbextension~=3.5.0->ipywidgets) (0.7.1)\n",
      "Requirement already satisfied: testpath in c:\\users\\borys\\anaconda3\\envs\\spacechallange2021\\lib\\site-packages (from nbconvert->notebook>=4.4.1->widgetsnbextension~=3.5.0->ipywidgets) (0.5.0)\n",
      "Requirement already satisfied: jupyterlab-pygments in c:\\users\\borys\\anaconda3\\envs\\spacechallange2021\\lib\\site-packages (from nbconvert->notebook>=4.4.1->widgetsnbextension~=3.5.0->ipywidgets) (0.1.2)\n",
      "Requirement already satisfied: nbclient<0.6.0,>=0.5.0 in c:\\users\\borys\\anaconda3\\envs\\spacechallange2021\\lib\\site-packages (from nbconvert->notebook>=4.4.1->widgetsnbextension~=3.5.0->ipywidgets) (0.5.3)\n",
      "Requirement already satisfied: async-generator in c:\\users\\borys\\anaconda3\\envs\\spacechallange2021\\lib\\site-packages (from nbclient<0.6.0,>=0.5.0->nbconvert->notebook>=4.4.1->widgetsnbextension~=3.5.0->ipywidgets) (1.10)\n",
      "Requirement already satisfied: packaging in c:\\users\\borys\\anaconda3\\envs\\spacechallange2021\\lib\\site-packages (from bleach->nbconvert->notebook>=4.4.1->widgetsnbextension~=3.5.0->ipywidgets) (21.0)\n",
      "Requirement already satisfied: webencodings in c:\\users\\borys\\anaconda3\\envs\\spacechallange2021\\lib\\site-packages (from bleach->nbconvert->notebook>=4.4.1->widgetsnbextension~=3.5.0->ipywidgets) (0.5.1)\n",
      "Requirement already satisfied: Twisted>=17.5.0 in c:\\users\\borys\\anaconda3\\envs\\spacechallange2021\\lib\\site-packages (from vtk->vtkplotlib) (21.7.0)\n",
      "Requirement already satisfied: wslink>=0.1.3 in c:\\users\\borys\\anaconda3\\envs\\spacechallange2021\\lib\\site-packages (from vtk->vtkplotlib) (1.0.7)\n",
      "Requirement already satisfied: autobahn>=17.7.1 in c:\\users\\borys\\anaconda3\\envs\\spacechallange2021\\lib\\site-packages (from vtk->vtkplotlib) (21.3.1)\n",
      "Requirement already satisfied: cryptography>=3.4.6 in c:\\users\\borys\\anaconda3\\envs\\spacechallange2021\\lib\\site-packages (from autobahn>=17.7.1->vtk->vtkplotlib) (3.4.8)\n",
      "Requirement already satisfied: txaio>=21.2.1 in c:\\users\\borys\\anaconda3\\envs\\spacechallange2021\\lib\\site-packages (from autobahn>=17.7.1->vtk->vtkplotlib) (21.2.1)\n",
      "Requirement already satisfied: hyperlink>=21.0.0 in c:\\users\\borys\\anaconda3\\envs\\spacechallange2021\\lib\\site-packages (from autobahn>=17.7.1->vtk->vtkplotlib) (21.0.0)\n",
      "Requirement already satisfied: idna>=2.5 in c:\\users\\borys\\anaconda3\\envs\\spacechallange2021\\lib\\site-packages (from hyperlink>=21.0.0->autobahn>=17.7.1->vtk->vtkplotlib) (3.2)\n",
      "Requirement already satisfied: incremental>=21.3.0 in c:\\users\\borys\\anaconda3\\envs\\spacechallange2021\\lib\\site-packages (from Twisted>=17.5.0->vtk->vtkplotlib) (21.3.0)\n",
      "Requirement already satisfied: Automat>=0.8.0 in c:\\users\\borys\\anaconda3\\envs\\spacechallange2021\\lib\\site-packages (from Twisted>=17.5.0->vtk->vtkplotlib) (20.2.0)\n",
      "Requirement already satisfied: twisted-iocpsupport~=1.0.0 in c:\\users\\borys\\anaconda3\\envs\\spacechallange2021\\lib\\site-packages (from Twisted>=17.5.0->vtk->vtkplotlib) (1.0.2)\n",
      "Requirement already satisfied: constantly>=15.1 in c:\\users\\borys\\anaconda3\\envs\\spacechallange2021\\lib\\site-packages (from Twisted>=17.5.0->vtk->vtkplotlib) (15.1.0)\n",
      "Requirement already satisfied: typing-extensions>=3.6.5 in c:\\users\\borys\\anaconda3\\envs\\spacechallange2021\\lib\\site-packages (from Twisted>=17.5.0->vtk->vtkplotlib) (3.10.0.2)\n",
      "Requirement already satisfied: zope.interface>=4.4.2 in c:\\users\\borys\\anaconda3\\envs\\spacechallange2021\\lib\\site-packages (from Twisted>=17.5.0->vtk->vtkplotlib) (5.4.0)\n",
      "Requirement already satisfied: aiohttp in c:\\users\\borys\\anaconda3\\envs\\spacechallange2021\\lib\\site-packages (from wslink>=0.1.3->vtk->vtkplotlib) (3.7.4.post0)\n",
      "Requirement already satisfied: chardet<5.0,>=2.0 in c:\\users\\borys\\anaconda3\\envs\\spacechallange2021\\lib\\site-packages (from aiohttp->wslink>=0.1.3->vtk->vtkplotlib) (4.0.0)\n",
      "Requirement already satisfied: yarl<2.0,>=1.0 in c:\\users\\borys\\anaconda3\\envs\\spacechallange2021\\lib\\site-packages (from aiohttp->wslink>=0.1.3->vtk->vtkplotlib) (1.6.3)\n",
      "Requirement already satisfied: multidict<7.0,>=4.5 in c:\\users\\borys\\anaconda3\\envs\\spacechallange2021\\lib\\site-packages (from aiohttp->wslink>=0.1.3->vtk->vtkplotlib) (5.1.0)\n",
      "Requirement already satisfied: async-timeout<4.0,>=3.0 in c:\\users\\borys\\anaconda3\\envs\\spacechallange2021\\lib\\site-packages (from aiohttp->wslink>=0.1.3->vtk->vtkplotlib) (3.0.1)\n"
     ]
    }
   ],
   "source": [
    "!pip install numpy-stl matplotlib ipywidgets vtkplotlib"
   ]
  },
  {
   "cell_type": "markdown",
   "id": "f6fd859c",
   "metadata": {},
   "source": []
  },
  {
   "cell_type": "code",
   "execution_count": 28,
   "id": "ab40aa1a",
   "metadata": {},
   "outputs": [],
   "source": [
    "import math\n",
    "from typing import List\n",
    "from stl.mesh import Mesh\n",
    "import functools\n",
    "from stl.mesh import Mesh\n",
    "import matplotlib.pyplot as plt\n",
    "from matplotlib.pyplot import figure\n",
    "import ipywidgets as widgets\n",
    "from IPython.display import clear_output\n",
    "from os import walk\n",
    "import numpy as np\n",
    "import vtkplotlib as vpl"
   ]
  },
  {
   "cell_type": "code",
   "execution_count": 29,
   "id": "4ed9af47",
   "metadata": {},
   "outputs": [],
   "source": [
    "models = []\n",
    "for (dirpath, dirnames, filenames) in walk(\"models\"):\n",
    "    models.extend(filenames)\n",
    "    break"
   ]
  },
  {
   "cell_type": "code",
   "execution_count": 30,
   "id": "510da1db",
   "metadata": {},
   "outputs": [],
   "source": [
    "def get_spectator(mode: str) -> int:\n",
    "    m = mode.lower()\n",
    "    if m == \"zy\" or m == \"yz\":\n",
    "        return 0\n",
    "    elif m == \"xz\" or m == \"zx\":\n",
    "        return 1\n",
    "    elif m == \"xy\" or m == \"yx\":\n",
    "        return 2"
   ]
  },
  {
   "cell_type": "code",
   "execution_count": 31,
   "id": "f34c3d4b",
   "metadata": {},
   "outputs": [],
   "source": [
    "def sort_normals(normals: List[list], areas: List[list], mode: str) -> List[tuple]:\n",
    "    result = []\n",
    "    scalar_index = get_spectator(mode)\n",
    "    for i in range(len(normals)):\n",
    "        if normals[i][scalar_index] < 0:\n",
    "            result.append((normals[i][scalar_index], areas[i][0]))\n",
    "\n",
    "    return result"
   ]
  },
  {
   "cell_type": "code",
   "execution_count": 32,
   "id": "f95cef0c",
   "metadata": {},
   "outputs": [],
   "source": [
    "def start_processing(income: Mesh, mode: str, rotate_params: list, steps: int, multiplicator: float) -> list:\n",
    "    result = []\n",
    "    for x in range(steps):\n",
    "        income.rotate(rotate_params, math.radians(multiplicator))\n",
    "        result.append(functools.reduce(lambda z, y: z + y, list(map(lambda t: t[0] * t[0] * t[1], sort_normals(income.get_unit_normals(), income.areas, mode)))))\n",
    "\n",
    "    return result"
   ]
  },
  {
   "cell_type": "code",
   "execution_count": 33,
   "id": "79238362",
   "metadata": {},
   "outputs": [],
   "source": [
    "def normalize(income: list) -> list:\n",
    "    m = max(income)\n",
    "    return list(map(lambda x: x / m, income))"
   ]
  },
  {
   "cell_type": "code",
   "execution_count": null,
   "id": "372a108a",
   "metadata": {},
   "outputs": [],
   "source": []
  },
  {
   "cell_type": "code",
   "execution_count": 34,
   "id": "c8ee3910",
   "metadata": {
    "scrolled": false
   },
   "outputs": [],
   "source": [
    "wx = widgets.FloatSlider(\n",
    "    value=-1,\n",
    "    min=-1,\n",
    "    max=1,\n",
    "    step=0.1,\n",
    "    description='x:',\n",
    "    disabled=False,\n",
    "    continuous_update=False,\n",
    "    orientation='horizontal',\n",
    "    readout=True,\n",
    "    readout_format='.1f'\n",
    ")\n",
    "\n",
    "wy = widgets.FloatSlider(\n",
    "    value=-1,\n",
    "    min=-1,\n",
    "    max=1,\n",
    "    step=0.1,\n",
    "    description='y:',\n",
    "    disabled=False,\n",
    "    continuous_update=False,\n",
    "    orientation='horizontal',\n",
    "    readout=True,\n",
    "    readout_format='.1f'\n",
    ")\n",
    "\n",
    "wz = widgets.FloatSlider(\n",
    "    value=0.5,\n",
    "    min=-1,\n",
    "    max=1,\n",
    "    step=0.1,\n",
    "    description='z:',\n",
    "    disabled=False,\n",
    "    continuous_update=False,\n",
    "    orientation='horizontal',\n",
    "    readout=True,\n",
    "    readout_format='.1f'\n",
    ")\n",
    "\n",
    "w_xy = widgets.Dropdown(\n",
    "    options=['xy', 'xz', 'yz'],\n",
    "    value='xy',\n",
    "    description='Plane:',\n",
    "    disabled=False,\n",
    ")\n",
    "\n",
    "w_files = widgets.Dropdown(\n",
    "    options=models,\n",
    "    value=models[0],\n",
    "    description='Model:',\n",
    "    disabled=False,\n",
    ")\n",
    "\n",
    "button = widgets.Button(description=\"Show picture\")\n",
    "\n",
    "output = widgets.Output()\n",
    "\n",
    "def on_button_clicked(b):\n",
    "    with output:\n",
    "        clear_output(True)\n",
    "        x = wx.value\n",
    "        y = wy.value\n",
    "        z = wz.value\n",
    "        model = w_files.value\n",
    "        xyz = w_xy.value\n",
    "        process(\"models/\" + model, [x, y, z], xyz)"
   ]
  },
  {
   "cell_type": "code",
   "execution_count": 37,
   "id": "08448761",
   "metadata": {},
   "outputs": [],
   "source": []
  },
  {
   "cell_type": "code",
   "execution_count": 38,
   "id": "5b7046e5",
   "metadata": {},
   "outputs": [],
   "source": [
    "def process(filename: str, rotate: list, mode: str):\n",
    "    mesh = Mesh.from_file(filename)\n",
    "    period = 360\n",
    "    step = 1\n",
    "    steps = period/step\n",
    "    figure(figsize=(10, 5), dpi=80)\n",
    "    nd = normalize(start_processing(mesh, mode, rotate, int(steps), step))\n",
    "    nd.append(nd[0])\n",
    "    plt.plot(range(int(steps+1)), nd, color=\"red\")\n",
    "    plt.yscale('linear')\n",
    "    plt.xlabel(str(filename[7:len(filename)-4]))\n",
    "    plt.xticks(range(0, 361, 60))\n",
    "    plt.show()"
   ]
  },
  {
   "cell_type": "code",
   "execution_count": 39,
   "id": "b1a0ddc8",
   "metadata": {
    "scrolled": false
   },
   "outputs": [
    {
     "data": {
      "application/vnd.jupyter.widget-view+json": {
       "model_id": "572b19f9ca7c464fb03f293f2056451c",
       "version_major": 2,
       "version_minor": 0
      },
      "text/plain": [
       "FloatSlider(value=-1.0, continuous_update=False, description='x:', max=1.0, min=-1.0, readout_format='.1f')"
      ]
     },
     "metadata": {},
     "output_type": "display_data"
    },
    {
     "data": {
      "application/vnd.jupyter.widget-view+json": {
       "model_id": "c44f1209ea7b4b129e9b0557c2a1fc0c",
       "version_major": 2,
       "version_minor": 0
      },
      "text/plain": [
       "FloatSlider(value=-1.0, continuous_update=False, description='y:', max=1.0, min=-1.0, readout_format='.1f')"
      ]
     },
     "metadata": {},
     "output_type": "display_data"
    },
    {
     "data": {
      "application/vnd.jupyter.widget-view+json": {
       "model_id": "71c6681a899c4436a59101ba3da1dadc",
       "version_major": 2,
       "version_minor": 0
      },
      "text/plain": [
       "FloatSlider(value=0.5, continuous_update=False, description='z:', max=1.0, min=-1.0, readout_format='.1f')"
      ]
     },
     "metadata": {},
     "output_type": "display_data"
    },
    {
     "data": {
      "application/vnd.jupyter.widget-view+json": {
       "model_id": "7c1112992d534c85a60bf8fde3452bdc",
       "version_major": 2,
       "version_minor": 0
      },
      "text/plain": [
       "Dropdown(description='Plane:', options=('xy', 'xz', 'yz'), value='xy')"
      ]
     },
     "metadata": {},
     "output_type": "display_data"
    },
    {
     "data": {
      "application/vnd.jupyter.widget-view+json": {
       "model_id": "34260d7196d746588292566bc0e20edc",
       "version_major": 2,
       "version_minor": 0
      },
      "text/plain": [
       "Dropdown(description='Model:', index=2, options=('golevka.stl', 'hw1.stl', 'kleopatra.stl', 'mithra.stl', 'tou…"
      ]
     },
     "metadata": {},
     "output_type": "display_data"
    },
    {
     "data": {
      "application/vnd.jupyter.widget-view+json": {
       "model_id": "2a002f89b4d54fb0ae05c3a3c952132f",
       "version_major": 2,
       "version_minor": 0
      },
      "text/plain": [
       "Button(description='Show picture', style=ButtonStyle())"
      ]
     },
     "metadata": {},
     "output_type": "display_data"
    },
    {
     "data": {
      "application/vnd.jupyter.widget-view+json": {
       "model_id": "1a8072cb6f8f4f919d5280fac4f6aba2",
       "version_major": 2,
       "version_minor": 0
      },
      "text/plain": [
       "Output(outputs=({'output_type': 'display_data', 'data': {'text/plain': '<Figure size 800x400 with 1 Axes>', 'i…"
      ]
     },
     "metadata": {},
     "output_type": "display_data"
    }
   ],
   "source": [
    "display(wx, wy, wz, w_xy, w_files, button)\n",
    "button.on_click(on_button_clicked)\n",
    "\n",
    "with output:\n",
    "    process(\"models/\" + models[0], [-1, -1, 0.5], \"xy\")\n",
    "\n",
    "output"
   ]
  },
  {
   "cell_type": "code",
   "execution_count": null,
   "id": "0eb6b04e",
   "metadata": {},
   "outputs": [],
   "source": []
  }
 ],
 "metadata": {
  "kernelspec": {
   "display_name": "Python 3 (ipykernel)",
   "language": "python",
   "name": "python3"
  },
  "language_info": {
   "codemirror_mode": {
    "name": "ipython",
    "version": 3
   },
   "file_extension": ".py",
   "mimetype": "text/x-python",
   "name": "python",
   "nbconvert_exporter": "python",
   "pygments_lexer": "ipython3",
   "version": "3.8.11"
  }
 },
 "nbformat": 4,
 "nbformat_minor": 5
}
